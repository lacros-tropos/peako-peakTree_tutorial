{
 "cells": [
  {
   "cell_type": "markdown",
   "id": "9c253f0a-4be4-4a93-a713-f6de0b72d44c",
   "metadata": {},
   "source": [
    "# marking_peaks\n",
    "Notebook to create training data for PEAKO (still experimental). Alternatively use the .py application, which is more robust but is not supported by Jupyter Lab (simply run it from a terminal)"
   ]
  },
  {
   "cell_type": "code",
   "execution_count": 1,
   "id": "ced3d3fb-6211-41d2-a292-a69575af15a4",
   "metadata": {},
   "outputs": [],
   "source": [
    "%load_ext autoreload\n",
    "%autoreload 2"
   ]
  },
  {
   "cell_type": "code",
   "execution_count": 2,
   "id": "5df43986-e5a5-4e87-a5bc-6416256929c7",
   "metadata": {},
   "outputs": [],
   "source": [
    "# the following imports are just for development\n",
    "# import importlib.util\n",
    "# import sys\n",
    "# spec = importlib.util.spec_from_file_location(\"peako.TrainingData\", \"../pyPEAKO/pypeako/peako.py\")\n",
    "# pypeako = importlib.util.module_from_spec(spec)\n",
    "# sys.modules[\"peako.TrainingData\"] = pypeako\n",
    "# spec.loader.exec_module(pypeako)\n",
    "\n",
    "import pypeako\n",
    "import glob"
   ]
  },
  {
   "cell_type": "code",
   "execution_count": 3,
   "id": "32d92ad2-f23f-4b47-bcf2-38e35ccadda1",
   "metadata": {},
   "outputs": [
    {
     "name": "stdout",
     "output_type": "stream",
     "text": [
      "['/srv/data/shareddata/hyytiala/240114_080000_P09_ZEN_cropped_x701_879_y4_177.LV0.NC']\n"
     ]
    }
   ],
   "source": [
    "cropped_files = glob.glob('/srv/data/shareddata/hyytiala/24*cropped*.NC')\n",
    "print(cropped_files)"
   ]
  },
  {
   "cell_type": "code",
   "execution_count": 4,
   "id": "e0b80e83-c662-4a2b-b4a9-98361668db9b",
   "metadata": {},
   "outputs": [],
   "source": [
    "TD = pypeako.TrainingData(cropped_files,\n",
    "                     num_spec=[1])\n",
    "\n",
    "TD.peaks_ncfiles = [p.split('/')[-1] for p in TD.peaks_ncfiles]"
   ]
  },
  {
   "cell_type": "code",
   "execution_count": 5,
   "id": "b83f0062-0b3a-47c2-90f2-13e290543e51",
   "metadata": {},
   "outputs": [
    {
     "name": "stdout",
     "output_type": "stream",
     "text": [
      "possible range indices (1, 369)\n",
      "[  0  36 153]\n",
      "new rind (37, 151)\n"
     ]
    },
    {
     "data": {
      "application/vnd.jupyter.widget-view+json": {
       "model_id": "e1a8256a7a40416b9141059a07a03503",
       "version_major": 2,
       "version_minor": 0
      },
      "text/plain": [
       "AppLayout(children=(HBox(children=(ToggleButton(value=False, description='Next spec', icon='forward', tooltip=…"
      ]
     },
     "execution_count": 5,
     "metadata": {},
     "output_type": "execute_result"
    }
   ],
   "source": [
    "\n",
    "%matplotlib ipympl\n",
    "# TD.mark_random_spectra(jupyter=True)\n",
    "TD.mark_random_spectra_jupyter(chirp=1)\n"
   ]
  },
  {
   "cell_type": "code",
   "execution_count": 8,
   "id": "8c34c54c-0ffa-4678-886d-eb8288f86f30",
   "metadata": {},
   "outputs": [
    {
     "name": "stdout",
     "output_type": "stream",
     "text": [
      "created new file marked_peaks_240114_080000_P09_ZEN_cropped_x701_879_y4_177.LV0.NC\n"
     ]
    }
   ],
   "source": [
    "TD.save_training_data()"
   ]
  },
  {
   "cell_type": "code",
   "execution_count": null,
   "id": "27ddb717-b1e2-4f68-a7a9-343fa0205478",
   "metadata": {
    "scrolled": true
   },
   "outputs": [],
   "source": []
  },
  {
   "cell_type": "code",
   "execution_count": null,
   "id": "fd59812a-bb1e-4835-95b9-605b13b0aa38",
   "metadata": {},
   "outputs": [],
   "source": []
  }
 ],
 "metadata": {
  "kernelspec": {
   "display_name": "Python 3 (ipykernel)",
   "language": "python",
   "name": "python3"
  },
  "language_info": {
   "codemirror_mode": {
    "name": "ipython",
    "version": 3
   },
   "file_extension": ".py",
   "mimetype": "text/x-python",
   "name": "python",
   "nbconvert_exporter": "python",
   "pygments_lexer": "ipython3",
   "version": "3.12.6"
  }
 },
 "nbformat": 4,
 "nbformat_minor": 5
}
